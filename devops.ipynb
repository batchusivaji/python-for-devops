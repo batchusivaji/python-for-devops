{
 "cells": [
  {
   "cell_type": "markdown",
   "id": "ec5dd9e8",
   "metadata": {},
   "source": [
    "https://projecteuler.net/problem=2"
   ]
  },
  {
   "cell_type": "markdown",
   "id": "f661329e",
   "metadata": {},
   "source": [
    "### Fibonacci even number sum program"
   ]
  },
  {
   "cell_type": "code",
   "execution_count": 8,
   "id": "f59a58e9",
   "metadata": {},
   "outputs": [
    {
     "name": "stdout",
     "output_type": "stream",
     "text": [
      "44\n"
     ]
    }
   ],
   "source": [
    "a = 1\n",
    "b = 2\n",
    "result = 2  # start with 2 since it's the first even Fibonacci number\n",
    "c = 0\n",
    "while a + b < 100:\n",
    "    c = a + b\n",
    "    if c % 2 == 0:\n",
    "        result = result + c\n",
    "    a = b\n",
    "    b = c\n",
    "\n",
    "print(result)"
   ]
  },
  {
   "cell_type": "markdown",
   "id": "f65fcacc",
   "metadata": {},
   "source": [
    "### Find a armstrong number"
   ]
  },
  {
   "cell_type": "code",
   "execution_count": 21,
   "id": "cdbd1663",
   "metadata": {},
   "outputs": [
    {
     "name": "stdout",
     "output_type": "stream",
     "text": [
      "121 is not an Armstrong number\n"
     ]
    }
   ],
   "source": [
    "number = int(input(\" Eter a number: \"))\n",
    "originalNumber = number\n",
    "result = 0\n",
    "number_digits = len(str(number))\n",
    "\n",
    "while number > 0:\n",
    "    remainder = number % 10\n",
    "    number    = number // 10\n",
    "    result    = result + ( remainder ** number_digits)\n",
    "\n",
    "if originalNumber == result:\n",
    "    print(originalNumber, \"is an Armstrong number\")\n",
    "else:\n",
    "    print(originalNumber, \"is not an Armstrong number\")"
   ]
  }
 ],
 "metadata": {
  "kernelspec": {
   "display_name": "Python 3",
   "language": "python",
   "name": "python3"
  },
  "language_info": {
   "codemirror_mode": {
    "name": "ipython",
    "version": 3
   },
   "file_extension": ".py",
   "mimetype": "text/x-python",
   "name": "python",
   "nbconvert_exporter": "python",
   "pygments_lexer": "ipython3",
   "version": "3.13.0"
  }
 },
 "nbformat": 4,
 "nbformat_minor": 5
}
