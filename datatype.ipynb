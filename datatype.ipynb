{
 "cells": [
  {
   "cell_type": "markdown",
   "id": "7e9d1023",
   "metadata": {},
   "source": [
    "### Python Data Types\n",
    "\n",
    "1. Data type represent the type of data present inside a variable.\n",
    "2. Every value in Python has a data type.\n",
    "3. In python not required to specify the type explicitly.\n",
    "4. Based on value, the type will be assigned automatically.\n",
    " \n",
    " Python is Dynamically Typed Language Python contains\n"
   ]
  },
  {
   "cell_type": "markdown",
   "id": "868957a0",
   "metadata": {},
   "source": [
    "### None"
   ]
  },
  {
   "cell_type": "code",
   "execution_count": 1,
   "id": "9972ea37",
   "metadata": {},
   "outputs": [
    {
     "name": "stdout",
     "output_type": "stream",
     "text": [
      "None\n",
      "<class 'NoneType'>\n"
     ]
    }
   ],
   "source": [
    "a=None \n",
    "print(a) \n",
    "print(type(a))"
   ]
  },
  {
   "cell_type": "markdown",
   "id": "70650f8f",
   "metadata": {},
   "source": [
    "### Numeric: It classified Four Types\n",
    "1. Int\n",
    "2. Float\n",
    "3. Complex\n",
    "4. Bool"
   ]
  },
  {
   "cell_type": "code",
   "execution_count": 2,
   "id": "26d33ba7",
   "metadata": {},
   "outputs": [
    {
     "name": "stdout",
     "output_type": "stream",
     "text": [
      "10\n",
      "<class 'int'>\n"
     ]
    }
   ],
   "source": [
    "a=10\n",
    "print(a) \n",
    "print(type(a))"
   ]
  },
  {
   "cell_type": "code",
   "execution_count": 3,
   "id": "ba0b44ee",
   "metadata": {},
   "outputs": [
    {
     "name": "stdout",
     "output_type": "stream",
     "text": [
      "10.16\n",
      "<class 'float'>\n"
     ]
    }
   ],
   "source": [
    "a=10.16\n",
    "print(a) \n",
    "print(type(a))"
   ]
  },
  {
   "cell_type": "code",
   "execution_count": 4,
   "id": "bfa68c78",
   "metadata": {},
   "outputs": [
    {
     "name": "stdout",
     "output_type": "stream",
     "text": [
      "10j\n",
      "<class 'complex'>\n"
     ]
    }
   ],
   "source": [
    "a=10j \n",
    "print(a)\n",
    "print(type(a))"
   ]
  },
  {
   "cell_type": "code",
   "execution_count": 5,
   "id": "326d6395",
   "metadata": {},
   "outputs": [
    {
     "name": "stdout",
     "output_type": "stream",
     "text": [
      "True\n",
      "<class 'bool'>\n"
     ]
    }
   ],
   "source": [
    "a = True\n",
    "print(a)\n",
    "print(type(a))"
   ]
  },
  {
   "cell_type": "markdown",
   "id": "d1fda2ca",
   "metadata": {},
   "source": [
    "###  convert from int to float"
   ]
  },
  {
   "cell_type": "code",
   "execution_count": 6,
   "id": "1b9f7f99",
   "metadata": {},
   "outputs": [
    {
     "name": "stdout",
     "output_type": "stream",
     "text": [
      "10\n",
      "<class 'int'>\n",
      "10.0\n",
      "<class 'float'>\n"
     ]
    }
   ],
   "source": [
    "a=10\n",
    "print(a) \n",
    "print(type(a)) \n",
    "b=float(a) \n",
    "print(b) \n",
    "print(type(b))"
   ]
  },
  {
   "cell_type": "markdown",
   "id": "2e9f7272",
   "metadata": {},
   "source": [
    "### convert from float to int"
   ]
  },
  {
   "cell_type": "code",
   "execution_count": 7,
   "id": "2a2dd9b2",
   "metadata": {},
   "outputs": [
    {
     "name": "stdout",
     "output_type": "stream",
     "text": [
      "10.8\n",
      "<class 'float'>\n",
      "10\n",
      "<class 'int'>\n"
     ]
    }
   ],
   "source": [
    "a=10.8\n",
    "print(a) \n",
    "print(type(a))\n",
    "\n",
    "b=int(a) \n",
    "print(b) \n",
    "print(type(b))"
   ]
  },
  {
   "cell_type": "markdown",
   "id": "4bf9eae4",
   "metadata": {},
   "source": [
    "### Program to accept input from user"
   ]
  },
  {
   "cell_type": "code",
   "execution_count": 8,
   "id": "8e46cc68",
   "metadata": {},
   "outputs": [
    {
     "name": "stdout",
     "output_type": "stream",
     "text": [
      "your name is: shivaji\n"
     ]
    }
   ],
   "source": [
    "name=input(\"Enter your name:\") \n",
    "print(\"your name is:\", name)"
   ]
  },
  {
   "cell_type": "markdown",
   "id": "4f6f5862",
   "metadata": {},
   "source": [
    "### Program to accept integer values from user"
   ]
  },
  {
   "cell_type": "code",
   "execution_count": 11,
   "id": "c067edcd",
   "metadata": {},
   "outputs": [
    {
     "name": "stdout",
     "output_type": "stream",
     "text": [
      "result is: 55\n"
     ]
    }
   ],
   "source": [
    "a=input(\"Enter Num1:\") \n",
    "b=input(\"Enter Num2:\") \n",
    "print(\"result is:\",a+b)"
   ]
  },
  {
   "cell_type": "markdown",
   "id": "9dd3e6a9",
   "metadata": {},
   "source": [
    "### Note: by default, the values entered by user at runtime will be treated as string"
   ]
  },
  {
   "cell_type": "code",
   "execution_count": 13,
   "id": "a37098ce",
   "metadata": {},
   "outputs": [
    {
     "name": "stdout",
     "output_type": "stream",
     "text": [
      "<class 'str'>\n",
      "<class 'str'>\n",
      "result is: 22\n"
     ]
    }
   ],
   "source": [
    "a=input(\"Enter Num1:\") \n",
    "print(type(a)) \n",
    "b=input(\"Enter Num2:\") \n",
    "print(type(b)) \n",
    "print(\"result is:\",a+b)"
   ]
  },
  {
   "cell_type": "markdown",
   "id": "7df33d2c",
   "metadata": {},
   "source": [
    "### we have to convert from string to integer"
   ]
  },
  {
   "cell_type": "code",
   "execution_count": null,
   "id": "4c278141",
   "metadata": {},
   "outputs": [],
   "source": [
    "a=input(\"Enter Num1:\") \n",
    "print(type(a))\n",
    "x=int(a)\n",
    "b=input (\"Enter Num2:\") \n",
    "print(type(b))\n",
    "y=int(b)\n",
    "print(\"result is:\", x+y)"
   ]
  },
  {
   "cell_type": "markdown",
   "id": "d9d2a7e0",
   "metadata": {},
   "source": [
    "### complex data types"
   ]
  },
  {
   "cell_type": "code",
   "execution_count": 16,
   "id": "e829b58c",
   "metadata": {},
   "outputs": [
    {
     "name": "stdout",
     "output_type": "stream",
     "text": [
      "3.0\n",
      "4.0\n"
     ]
    }
   ],
   "source": [
    "x = 3 + 4j       # Creates a complex number (3+4j)\n",
    "y = complex(5)   # Creates (5+0j), real part only\n",
    "z = complex(3, 2) # Creates (3+2j), with real and imaginary parts\n",
    "w = complex(\"2+3j\") # Using a string\n",
    "\n",
    "print(x.real) \n",
    "print(x.imag)   "
   ]
  },
  {
   "cell_type": "markdown",
   "id": "59793750",
   "metadata": {},
   "source": [
    "### string\n",
    "\n",
    "1. str represents String data type.\n",
    "2. A string is a sequence of characters enclosed within single quotes or double quotes.\n",
    "3. String can be create by using '' or \"\" or ''' ''' or \"\"\" \"\"\""
   ]
  },
  {
   "cell_type": "code",
   "execution_count": 17,
   "id": "9a442254",
   "metadata": {},
   "outputs": [
    {
     "name": "stdout",
     "output_type": "stream",
     "text": [
      "Hello\n",
      "World\n"
     ]
    }
   ],
   "source": [
    "s1 = 'Hello'\n",
    "s2 = \"World\"\n",
    "print(s1)        \n",
    "print(s2)         \n"
   ]
  },
  {
   "cell_type": "code",
   "execution_count": 18,
   "id": "99fd8660",
   "metadata": {},
   "outputs": [
    {
     "name": "stdout",
     "output_type": "stream",
     "text": [
      "This is a\n",
      "multiline string.\n"
     ]
    }
   ],
   "source": [
    "s3 = \"\"\"This is a\n",
    "multiline string.\"\"\"\n",
    "print(s3)\n"
   ]
  }
 ],
 "metadata": {
  "kernelspec": {
   "display_name": "Python 3",
   "language": "python",
   "name": "python3"
  },
  "language_info": {
   "codemirror_mode": {
    "name": "ipython",
    "version": 3
   },
   "file_extension": ".py",
   "mimetype": "text/x-python",
   "name": "python",
   "nbconvert_exporter": "python",
   "pygments_lexer": "ipython3",
   "version": "3.13.0b2"
  }
 },
 "nbformat": 4,
 "nbformat_minor": 5
}
