{
 "cells": [
  {
   "cell_type": "markdown",
   "id": "ec5dd9e8",
   "metadata": {},
   "source": [
    "https://projecteuler.net/problem=2"
   ]
  },
  {
   "cell_type": "markdown",
   "id": "f661329e",
   "metadata": {},
   "source": [
    "### Fibonacci even number sum program"
   ]
  },
  {
   "cell_type": "code",
   "execution_count": null,
   "id": "f59a58e9",
   "metadata": {},
   "outputs": [
    {
     "name": "stdout",
     "output_type": "stream",
     "text": [
      "44\n"
     ]
    }
   ],
   "source": [
    "a = 1\n",
    "b = 2\n",
    "result = 2  # start with 2 since it's the first even Fibonacci number\n",
    "c = 0\n",
    "while a + b < 100:\n",
    "    c = a + b\n",
    "    if c % 2 == 0:\n",
    "        result = result + c\n",
    "    a = b\n",
    "    b = c\n",
    "\n",
    "print(result)"
   ]
  },
  {
   "cell_type": "markdown",
   "id": "f65fcacc",
   "metadata": {},
   "source": [
    "### Find a armstrong number"
   ]
  },
  {
   "cell_type": "code",
   "execution_count": null,
   "id": "cdbd1663",
   "metadata": {},
   "outputs": [
    {
     "name": "stdout",
     "output_type": "stream",
     "text": [
      "121 is not an Armstrong number\n"
     ]
    }
   ],
   "source": [
    "number = int(input(\" Eter a number: \"))\n",
    "originalNumber = number\n",
    "result = 0\n",
    "number_digits = len(str(number))\n",
    "\n",
    "while number > 0:\n",
    "    remainder = number % 10\n",
    "    number    = number // 10\n",
    "    result    = result + ( remainder ** number_digits)\n",
    "\n",
    "if originalNumber == result:\n",
    "    print(originalNumber, \"is an Armstrong number\")\n",
    "else:\n",
    "    print(originalNumber, \"is not an Armstrong number\")"
   ]
  },
  {
   "cell_type": "markdown",
   "id": "20a17d06",
   "metadata": {},
   "source": [
    "### Arithmetic Operators in Python"
   ]
  },
  {
   "cell_type": "code",
   "execution_count": null,
   "id": "0ddb26a0",
   "metadata": {},
   "outputs": [
    {
     "name": "stdout",
     "output_type": "stream",
     "text": [
      "Sum:  9\n",
      "Subtraction:  5\n",
      "Multiplication:  14\n",
      "Division:  3.5\n",
      "Floor Division:  3\n",
      "Modulo:  1\n",
      "Power:  49\n"
     ]
    }
   ],
   "source": [
    "a = 7\n",
    "b = 2\n",
    "\n",
    "# addition\n",
    "print ('Sum: ', a + b)  \n",
    "\n",
    "# subtraction\n",
    "print ('Subtraction: ', a - b)   \n",
    "\n",
    "# multiplication\n",
    "print ('Multiplication: ', a * b)  \n",
    "\n",
    "# division\n",
    "print ('Division: ', a / b) \n",
    "\n",
    "# floor division\n",
    "print ('Floor Division: ', a // b)\n",
    "\n",
    "# modulo\n",
    "print ('Modulo: ', a % b)  \n",
    "\n",
    "# a to the power b\n",
    "print ('Power: ', a ** b)   "
   ]
  },
  {
   "cell_type": "markdown",
   "id": "c7f003e1",
   "metadata": {},
   "source": [
    "### Comparison Operators"
   ]
  },
  {
   "cell_type": "code",
   "execution_count": null,
   "id": "d4e9f162",
   "metadata": {},
   "outputs": [
    {
     "name": "stdout",
     "output_type": "stream",
     "text": [
      "a == b = False\n",
      "a != b = True\n",
      "a > b = True\n",
      "a < b = False\n",
      "a >= b = True\n",
      "a <= b = False\n"
     ]
    }
   ],
   "source": [
    "a = 5\n",
    "\n",
    "b = 2\n",
    "\n",
    "# equal to operator\n",
    "print('a == b =', a == b)\n",
    "\n",
    "# not equal to operator\n",
    "print('a != b =', a != b)\n",
    "\n",
    "# greater than operator\n",
    "print('a > b =', a > b)\n",
    "\n",
    "# less than operator\n",
    "print('a < b =', a < b)\n",
    "\n",
    "# greater than or equal to operator\n",
    "print('a >= b =', a >= b)\n",
    "\n",
    "# less than or equal to operator\n",
    "print('a <= b =', a <= b)"
   ]
  },
  {
   "cell_type": "markdown",
   "id": "5a1ec13e",
   "metadata": {},
   "source": [
    "https://www.hackerrank.com/challenges/py-if-else/problem?isFullScreen=true\n",
    "\n",
    "\"\"\"This program is solution for Hacker Rank\n",
    "Problem of conditionals\n",
    "\"\"\""
   ]
  },
  {
   "cell_type": "code",
   "execution_count": null,
   "id": "2e0ab93f",
   "metadata": {},
   "outputs": [
    {
     "name": "stdout",
     "output_type": "stream",
     "text": [
      "Not Weird\n"
     ]
    }
   ],
   "source": [
    "n = int(input().strip())\n",
    "is_valid = 1 <= n <= 100\n",
    "if not is_valid:\n",
    "    exit(1)\n",
    "is_even = n % 2 == 0\n",
    "    \n",
    "if not is_even:\n",
    "    print(\"Not Weired\")\n",
    "else:\n",
    "    if 2 <= n <= 5:\n",
    "        print(\"Not Weird\")\n",
    "    elif 6 <= n <= 20:\n",
    "        print(\"Weird\")\n",
    "    else:\n",
    "        print(\"Not Weird\")"
   ]
  }
 ],
 "metadata": {
  "kernelspec": {
   "display_name": "Python 3",
   "language": "python",
   "name": "python3"
  },
  "language_info": {
   "codemirror_mode": {
    "name": "ipython",
    "version": 3
   },
   "file_extension": ".py",
   "mimetype": "text/x-python",
   "name": "python",
   "nbconvert_exporter": "python",
   "pygments_lexer": "ipython3",
   "version": "3.13.0"
  }
 },
 "nbformat": 4,
 "nbformat_minor": 5
}
